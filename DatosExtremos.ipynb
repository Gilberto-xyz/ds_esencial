{
 "cells": [
  {
   "cell_type": "code",
   "execution_count": 2,
   "metadata": {},
   "outputs": [
    {
     "data": {
      "text/html": [
       "<div>\n",
       "<style scoped>\n",
       "    .dataframe tbody tr th:only-of-type {\n",
       "        vertical-align: middle;\n",
       "    }\n",
       "\n",
       "    .dataframe tbody tr th {\n",
       "        vertical-align: top;\n",
       "    }\n",
       "\n",
       "    .dataframe thead th {\n",
       "        text-align: right;\n",
       "    }\n",
       "</style>\n",
       "<table border=\"1\" class=\"dataframe\">\n",
       "  <thead>\n",
       "    <tr style=\"text-align: right;\">\n",
       "      <th></th>\n",
       "      <th>Year</th>\n",
       "      <th>Month</th>\n",
       "      <th>DayofMonth</th>\n",
       "      <th>DayOfWeek</th>\n",
       "      <th>DepTime</th>\n",
       "      <th>CRSDepTime</th>\n",
       "      <th>ArrTime</th>\n",
       "      <th>CRSArrTime</th>\n",
       "      <th>UniqueCarrier</th>\n",
       "      <th>FlightNum</th>\n",
       "      <th>...</th>\n",
       "      <th>TaxiIn</th>\n",
       "      <th>TaxiOut</th>\n",
       "      <th>Cancelled</th>\n",
       "      <th>CancellationCode</th>\n",
       "      <th>Diverted</th>\n",
       "      <th>CarrierDelay</th>\n",
       "      <th>WeatherDelay</th>\n",
       "      <th>NASDelay</th>\n",
       "      <th>SecurityDelay</th>\n",
       "      <th>LateAircraftDelay</th>\n",
       "    </tr>\n",
       "  </thead>\n",
       "  <tbody>\n",
       "    <tr>\n",
       "      <th>0</th>\n",
       "      <td>2008</td>\n",
       "      <td>1</td>\n",
       "      <td>3</td>\n",
       "      <td>4</td>\n",
       "      <td>2003.0</td>\n",
       "      <td>1955</td>\n",
       "      <td>2211.0</td>\n",
       "      <td>2225</td>\n",
       "      <td>WN</td>\n",
       "      <td>335</td>\n",
       "      <td>...</td>\n",
       "      <td>4.0</td>\n",
       "      <td>8.0</td>\n",
       "      <td>0</td>\n",
       "      <td>NaN</td>\n",
       "      <td>0</td>\n",
       "      <td>NaN</td>\n",
       "      <td>NaN</td>\n",
       "      <td>NaN</td>\n",
       "      <td>NaN</td>\n",
       "      <td>NaN</td>\n",
       "    </tr>\n",
       "    <tr>\n",
       "      <th>1</th>\n",
       "      <td>2008</td>\n",
       "      <td>1</td>\n",
       "      <td>3</td>\n",
       "      <td>4</td>\n",
       "      <td>754.0</td>\n",
       "      <td>735</td>\n",
       "      <td>1002.0</td>\n",
       "      <td>1000</td>\n",
       "      <td>WN</td>\n",
       "      <td>3231</td>\n",
       "      <td>...</td>\n",
       "      <td>5.0</td>\n",
       "      <td>10.0</td>\n",
       "      <td>0</td>\n",
       "      <td>NaN</td>\n",
       "      <td>0</td>\n",
       "      <td>NaN</td>\n",
       "      <td>NaN</td>\n",
       "      <td>NaN</td>\n",
       "      <td>NaN</td>\n",
       "      <td>NaN</td>\n",
       "    </tr>\n",
       "    <tr>\n",
       "      <th>2</th>\n",
       "      <td>2008</td>\n",
       "      <td>1</td>\n",
       "      <td>3</td>\n",
       "      <td>4</td>\n",
       "      <td>628.0</td>\n",
       "      <td>620</td>\n",
       "      <td>804.0</td>\n",
       "      <td>750</td>\n",
       "      <td>WN</td>\n",
       "      <td>448</td>\n",
       "      <td>...</td>\n",
       "      <td>3.0</td>\n",
       "      <td>17.0</td>\n",
       "      <td>0</td>\n",
       "      <td>NaN</td>\n",
       "      <td>0</td>\n",
       "      <td>NaN</td>\n",
       "      <td>NaN</td>\n",
       "      <td>NaN</td>\n",
       "      <td>NaN</td>\n",
       "      <td>NaN</td>\n",
       "    </tr>\n",
       "    <tr>\n",
       "      <th>3</th>\n",
       "      <td>2008</td>\n",
       "      <td>1</td>\n",
       "      <td>3</td>\n",
       "      <td>4</td>\n",
       "      <td>926.0</td>\n",
       "      <td>930</td>\n",
       "      <td>1054.0</td>\n",
       "      <td>1100</td>\n",
       "      <td>WN</td>\n",
       "      <td>1746</td>\n",
       "      <td>...</td>\n",
       "      <td>3.0</td>\n",
       "      <td>7.0</td>\n",
       "      <td>0</td>\n",
       "      <td>NaN</td>\n",
       "      <td>0</td>\n",
       "      <td>NaN</td>\n",
       "      <td>NaN</td>\n",
       "      <td>NaN</td>\n",
       "      <td>NaN</td>\n",
       "      <td>NaN</td>\n",
       "    </tr>\n",
       "    <tr>\n",
       "      <th>4</th>\n",
       "      <td>2008</td>\n",
       "      <td>1</td>\n",
       "      <td>3</td>\n",
       "      <td>4</td>\n",
       "      <td>1829.0</td>\n",
       "      <td>1755</td>\n",
       "      <td>1959.0</td>\n",
       "      <td>1925</td>\n",
       "      <td>WN</td>\n",
       "      <td>3920</td>\n",
       "      <td>...</td>\n",
       "      <td>3.0</td>\n",
       "      <td>10.0</td>\n",
       "      <td>0</td>\n",
       "      <td>NaN</td>\n",
       "      <td>0</td>\n",
       "      <td>2.0</td>\n",
       "      <td>0.0</td>\n",
       "      <td>0.0</td>\n",
       "      <td>0.0</td>\n",
       "      <td>32.0</td>\n",
       "    </tr>\n",
       "    <tr>\n",
       "      <th>...</th>\n",
       "      <td>...</td>\n",
       "      <td>...</td>\n",
       "      <td>...</td>\n",
       "      <td>...</td>\n",
       "      <td>...</td>\n",
       "      <td>...</td>\n",
       "      <td>...</td>\n",
       "      <td>...</td>\n",
       "      <td>...</td>\n",
       "      <td>...</td>\n",
       "      <td>...</td>\n",
       "      <td>...</td>\n",
       "      <td>...</td>\n",
       "      <td>...</td>\n",
       "      <td>...</td>\n",
       "      <td>...</td>\n",
       "      <td>...</td>\n",
       "      <td>...</td>\n",
       "      <td>...</td>\n",
       "      <td>...</td>\n",
       "      <td>...</td>\n",
       "    </tr>\n",
       "    <tr>\n",
       "      <th>99995</th>\n",
       "      <td>2008</td>\n",
       "      <td>1</td>\n",
       "      <td>25</td>\n",
       "      <td>5</td>\n",
       "      <td>2204.0</td>\n",
       "      <td>1935</td>\n",
       "      <td>106.0</td>\n",
       "      <td>2257</td>\n",
       "      <td>XE</td>\n",
       "      <td>7676</td>\n",
       "      <td>...</td>\n",
       "      <td>4.0</td>\n",
       "      <td>17.0</td>\n",
       "      <td>0</td>\n",
       "      <td>NaN</td>\n",
       "      <td>0</td>\n",
       "      <td>0.0</td>\n",
       "      <td>0.0</td>\n",
       "      <td>0.0</td>\n",
       "      <td>0.0</td>\n",
       "      <td>129.0</td>\n",
       "    </tr>\n",
       "    <tr>\n",
       "      <th>99996</th>\n",
       "      <td>2008</td>\n",
       "      <td>1</td>\n",
       "      <td>26</td>\n",
       "      <td>6</td>\n",
       "      <td>1933.0</td>\n",
       "      <td>1935</td>\n",
       "      <td>2234.0</td>\n",
       "      <td>2257</td>\n",
       "      <td>XE</td>\n",
       "      <td>7676</td>\n",
       "      <td>...</td>\n",
       "      <td>4.0</td>\n",
       "      <td>16.0</td>\n",
       "      <td>0</td>\n",
       "      <td>NaN</td>\n",
       "      <td>0</td>\n",
       "      <td>NaN</td>\n",
       "      <td>NaN</td>\n",
       "      <td>NaN</td>\n",
       "      <td>NaN</td>\n",
       "      <td>NaN</td>\n",
       "    </tr>\n",
       "    <tr>\n",
       "      <th>99997</th>\n",
       "      <td>2008</td>\n",
       "      <td>1</td>\n",
       "      <td>27</td>\n",
       "      <td>7</td>\n",
       "      <td>2047.0</td>\n",
       "      <td>1935</td>\n",
       "      <td>2400.0</td>\n",
       "      <td>2257</td>\n",
       "      <td>XE</td>\n",
       "      <td>7676</td>\n",
       "      <td>...</td>\n",
       "      <td>6.0</td>\n",
       "      <td>18.0</td>\n",
       "      <td>0</td>\n",
       "      <td>NaN</td>\n",
       "      <td>0</td>\n",
       "      <td>23.0</td>\n",
       "      <td>0.0</td>\n",
       "      <td>0.0</td>\n",
       "      <td>0.0</td>\n",
       "      <td>40.0</td>\n",
       "    </tr>\n",
       "    <tr>\n",
       "      <th>99998</th>\n",
       "      <td>2008</td>\n",
       "      <td>1</td>\n",
       "      <td>28</td>\n",
       "      <td>1</td>\n",
       "      <td>1956.0</td>\n",
       "      <td>1935</td>\n",
       "      <td>2308.0</td>\n",
       "      <td>2257</td>\n",
       "      <td>XE</td>\n",
       "      <td>7676</td>\n",
       "      <td>...</td>\n",
       "      <td>5.0</td>\n",
       "      <td>25.0</td>\n",
       "      <td>0</td>\n",
       "      <td>NaN</td>\n",
       "      <td>0</td>\n",
       "      <td>NaN</td>\n",
       "      <td>NaN</td>\n",
       "      <td>NaN</td>\n",
       "      <td>NaN</td>\n",
       "      <td>NaN</td>\n",
       "    </tr>\n",
       "    <tr>\n",
       "      <th>99999</th>\n",
       "      <td>2008</td>\n",
       "      <td>1</td>\n",
       "      <td>29</td>\n",
       "      <td>2</td>\n",
       "      <td>1938.0</td>\n",
       "      <td>1935</td>\n",
       "      <td>2308.0</td>\n",
       "      <td>2257</td>\n",
       "      <td>XE</td>\n",
       "      <td>7676</td>\n",
       "      <td>...</td>\n",
       "      <td>5.0</td>\n",
       "      <td>41.0</td>\n",
       "      <td>0</td>\n",
       "      <td>NaN</td>\n",
       "      <td>0</td>\n",
       "      <td>NaN</td>\n",
       "      <td>NaN</td>\n",
       "      <td>NaN</td>\n",
       "      <td>NaN</td>\n",
       "      <td>NaN</td>\n",
       "    </tr>\n",
       "  </tbody>\n",
       "</table>\n",
       "<p>100000 rows × 29 columns</p>\n",
       "</div>"
      ],
      "text/plain": [
       "       Year  Month  DayofMonth  DayOfWeek  DepTime  CRSDepTime  ArrTime  \\\n",
       "0      2008      1           3          4   2003.0        1955   2211.0   \n",
       "1      2008      1           3          4    754.0         735   1002.0   \n",
       "2      2008      1           3          4    628.0         620    804.0   \n",
       "3      2008      1           3          4    926.0         930   1054.0   \n",
       "4      2008      1           3          4   1829.0        1755   1959.0   \n",
       "...     ...    ...         ...        ...      ...         ...      ...   \n",
       "99995  2008      1          25          5   2204.0        1935    106.0   \n",
       "99996  2008      1          26          6   1933.0        1935   2234.0   \n",
       "99997  2008      1          27          7   2047.0        1935   2400.0   \n",
       "99998  2008      1          28          1   1956.0        1935   2308.0   \n",
       "99999  2008      1          29          2   1938.0        1935   2308.0   \n",
       "\n",
       "       CRSArrTime UniqueCarrier  FlightNum  ... TaxiIn  TaxiOut  Cancelled  \\\n",
       "0            2225            WN        335  ...    4.0      8.0          0   \n",
       "1            1000            WN       3231  ...    5.0     10.0          0   \n",
       "2             750            WN        448  ...    3.0     17.0          0   \n",
       "3            1100            WN       1746  ...    3.0      7.0          0   \n",
       "4            1925            WN       3920  ...    3.0     10.0          0   \n",
       "...           ...           ...        ...  ...    ...      ...        ...   \n",
       "99995        2257            XE       7676  ...    4.0     17.0          0   \n",
       "99996        2257            XE       7676  ...    4.0     16.0          0   \n",
       "99997        2257            XE       7676  ...    6.0     18.0          0   \n",
       "99998        2257            XE       7676  ...    5.0     25.0          0   \n",
       "99999        2257            XE       7676  ...    5.0     41.0          0   \n",
       "\n",
       "       CancellationCode  Diverted  CarrierDelay WeatherDelay NASDelay  \\\n",
       "0                   NaN         0           NaN          NaN      NaN   \n",
       "1                   NaN         0           NaN          NaN      NaN   \n",
       "2                   NaN         0           NaN          NaN      NaN   \n",
       "3                   NaN         0           NaN          NaN      NaN   \n",
       "4                   NaN         0           2.0          0.0      0.0   \n",
       "...                 ...       ...           ...          ...      ...   \n",
       "99995               NaN         0           0.0          0.0      0.0   \n",
       "99996               NaN         0           NaN          NaN      NaN   \n",
       "99997               NaN         0          23.0          0.0      0.0   \n",
       "99998               NaN         0           NaN          NaN      NaN   \n",
       "99999               NaN         0           NaN          NaN      NaN   \n",
       "\n",
       "       SecurityDelay  LateAircraftDelay  \n",
       "0                NaN                NaN  \n",
       "1                NaN                NaN  \n",
       "2                NaN                NaN  \n",
       "3                NaN                NaN  \n",
       "4                0.0               32.0  \n",
       "...              ...                ...  \n",
       "99995            0.0              129.0  \n",
       "99996            NaN                NaN  \n",
       "99997            0.0               40.0  \n",
       "99998            NaN                NaN  \n",
       "99999            NaN                NaN  \n",
       "\n",
       "[100000 rows x 29 columns]"
      ]
     },
     "execution_count": 2,
     "metadata": {},
     "output_type": "execute_result"
    }
   ],
   "source": [
    "import pandas as pd\n",
    "import numpy as np\n",
    "\n",
    "df = pd.read_csv('../dataset/base_datos_2008.csv', nrows = 100000)\n",
    "df"
   ]
  },
  {
   "cell_type": "code",
   "execution_count": 4,
   "metadata": {},
   "outputs": [],
   "source": [
    "# Detectar valores extremadamente pequeños o grandes - Outlayers\n",
    "# trabajaremos con la columna ArrDelay y eliminaremos los datos faltantes de esta misma\n",
    "x = df[ 'ArrDelay'].dropna()\n"
   ]
  },
  {
   "cell_type": "code",
   "execution_count": 6,
   "metadata": {},
   "outputs": [],
   "source": [
    "# Cuartiles\n",
    "# Medida estadistica que separan el 25% de los datos inferiores del 75% de los datos superiores ó \n",
    "# El 75% inferior del 25% superior de los datos ordenados\n",
    "\n",
    "Q1 = np.percentile(x, 25)\n",
    "# La mediana es el segundo cuartil. Q2\n",
    "Q3 = np.percentile(x, 75)\n",
    "\n",
    "# Rango intercuartílico\n",
    "# Diferencia entre el tercer cuartil y el primer cuartil\n",
    "\n",
    "rango_inter = Q3 - Q1"
   ]
  },
  {
   "cell_type": "code",
   "execution_count": 7,
   "metadata": {},
   "outputs": [],
   "source": [
    "umbralsuperior = Q3 + 1.5 * rango_inter\n",
    "umbralinferior = Q1 - 1.5 * rango_inter"
   ]
  },
  {
   "cell_type": "code",
   "execution_count": 8,
   "metadata": {},
   "outputs": [
    {
     "data": {
      "text/plain": [
       "38.5"
      ]
     },
     "execution_count": 8,
     "metadata": {},
     "output_type": "execute_result"
    }
   ],
   "source": [
    "umbralsuperior\n",
    "# Cualquier valor que se encuentre sobre 38 va a ser un Outlayer"
   ]
  },
  {
   "cell_type": "code",
   "execution_count": 10,
   "metadata": {},
   "outputs": [
    {
     "data": {
      "text/plain": [
       "-37.5"
      ]
     },
     "execution_count": 10,
     "metadata": {},
     "output_type": "execute_result"
    }
   ],
   "source": [
    "umbralinferior\n",
    "# Cualquier valor que se encuentre debajo de -37 va a ser un outlayer"
   ]
  },
  {
   "cell_type": "code",
   "execution_count": 12,
   "metadata": {},
   "outputs": [
    {
     "data": {
      "text/plain": [
       "0.08387201361729721"
      ]
     },
     "execution_count": 12,
     "metadata": {},
     "output_type": "execute_result"
    }
   ],
   "source": [
    "# Comprobar cuantos casos hay sobre el umbral\n",
    "np.mean(x > umbralsuperior)"
   ]
  },
  {
   "cell_type": "code",
   "execution_count": 13,
   "metadata": {},
   "outputs": [
    {
     "data": {
      "text/plain": [
       "0.0019048005025431114"
      ]
     },
     "execution_count": 13,
     "metadata": {},
     "output_type": "execute_result"
    }
   ],
   "source": [
    "# Comprobar cuantos casos hay debajo del umbral\n",
    "np.mean(x < umbralinferior)"
   ]
  },
  {
   "cell_type": "markdown",
   "metadata": {},
   "source": [
    "Las medidas no son simetricas.\n",
    "Lo que implica es que no estan igualmente distribuidas "
   ]
  },
  {
   "cell_type": "code",
   "execution_count": 15,
   "metadata": {},
   "outputs": [],
   "source": [
    "# Estudiar varias variables a la vez\n",
    "from sklearn.covariance import EllipticEnvelope\n"
   ]
  },
  {
   "cell_type": "code",
   "execution_count": 16,
   "metadata": {},
   "outputs": [],
   "source": [
    "# Modelo que va a seleccionar el 1% de datos que considere que estan muy alejados de nuestros datos mas centrados \n",
    "outliers = EllipticEnvelope( contamination = .01)"
   ]
  },
  {
   "cell_type": "code",
   "execution_count": 17,
   "metadata": {},
   "outputs": [],
   "source": [
    "# Lista con grupo de variables de la base de datos\n",
    "# Cuantitativas \n",
    "# Distribuidas gausianamente (son normales)\n",
    "var_list = ['DepDelay', 'TaxiIn', 'TaxiOut', 'CarrierDelay', 'WeatherDelay', 'NASDelay', 'SecurityDelay', 'LateAircraftDelay']"
   ]
  },
  {
   "cell_type": "code",
   "execution_count": 20,
   "metadata": {},
   "outputs": [],
   "source": [
    "# Definimos x de nuevo\n",
    "x = np.array( df.loc[:, var_list].dropna())"
   ]
  },
  {
   "cell_type": "code",
   "execution_count": 21,
   "metadata": {},
   "outputs": [
    {
     "data": {
      "text/plain": [
       "EllipticEnvelope(contamination=0.01)"
      ]
     },
     "execution_count": 21,
     "metadata": {},
     "output_type": "execute_result"
    }
   ],
   "source": [
    "outliers.fit(x)"
   ]
  },
  {
   "cell_type": "code",
   "execution_count": 22,
   "metadata": {},
   "outputs": [],
   "source": [
    "pred = outliers.predict(x)"
   ]
  },
  {
   "cell_type": "code",
   "execution_count": 23,
   "metadata": {},
   "outputs": [
    {
     "data": {
      "text/plain": [
       "array([1, 1, 1, ..., 1, 1, 1])"
      ]
     },
     "execution_count": 23,
     "metadata": {},
     "output_type": "execute_result"
    }
   ],
   "source": [
    "pred"
   ]
  },
  {
   "cell_type": "code",
   "execution_count": 24,
   "metadata": {},
   "outputs": [],
   "source": [
    "elips_outliers = np.where(pred == -1)[0]"
   ]
  },
  {
   "cell_type": "code",
   "execution_count": 25,
   "metadata": {},
   "outputs": [
    {
     "data": {
      "text/plain": [
       "array([  132,   133,   202,   205,   818,   823,  1347,  1428,  1636,\n",
       "        1681,  1843,  1958,  1968,  2255,  3008,  3010,  3897,  4259,\n",
       "        4265,  4430,  4439,  4466,  4512,  4662,  4818,  4924,  4925,\n",
       "        5138,  5140,  5160,  5162,  5229,  5230,  5331,  5555,  5577,\n",
       "        5938,  6112,  6543,  7299,  7677,  7679,  7711,  8153,  8238,\n",
       "        8279,  8482,  8483,  8567,  8618,  8792,  8806,  8819,  9508,\n",
       "        9565, 10250, 10604, 10609, 10677, 10678, 10680, 10693, 10817,\n",
       "       10818, 11022, 11099, 11100, 11102, 11105, 11529, 11635, 11897,\n",
       "       11910, 11922, 12248, 12261, 12331, 13274, 13278, 13333, 13334,\n",
       "       13335, 13336, 13337, 13338, 13722, 13723, 13726, 13727, 14257,\n",
       "       14261, 14270, 14327, 14330, 14357, 14359, 14360, 14364, 14408,\n",
       "       14425, 14427, 14491, 14492, 14493, 14515, 14583, 14585, 14647,\n",
       "       14743, 14787, 14790, 14828, 14830, 14866, 14878, 14879, 14941,\n",
       "       14942, 15033, 15037, 15090, 15096, 15104, 15106, 15107, 15134,\n",
       "       15136, 15137, 15138, 15190, 15194, 15195, 15201, 15272, 15287,\n",
       "       15296, 15315, 15317, 15319, 15320, 15321, 15323, 15351, 15381,\n",
       "       15394, 15471, 15475, 15497, 15499, 15596, 15606, 16366, 16508,\n",
       "       16532, 16630, 16983, 17097, 17155, 17269, 17366, 17386, 17439,\n",
       "       17534, 17539, 17540, 17671, 17706, 17730, 17771, 17776, 17777,\n",
       "       17804, 17860, 17880, 17935, 17983, 17994, 18070, 18083, 18129,\n",
       "       18216, 18237, 18291, 18293, 18334, 18335, 18493, 18496, 18718,\n",
       "       18803, 18804, 18829, 19079, 19115, 19150, 19161, 19363],\n",
       "      dtype=int64)"
      ]
     },
     "execution_count": 25,
     "metadata": {},
     "output_type": "execute_result"
    }
   ],
   "source": [
    "# Valores fuera del centro de las variables \n",
    "elips_outliers"
   ]
  }
 ],
 "metadata": {
  "interpreter": {
   "hash": "7c7891e7cf380ed489d75a267c4c9edc21b025f50aaae629f7ee24d6d95fc690"
  },
  "kernelspec": {
   "display_name": "Python 3.10.0 64-bit",
   "language": "python",
   "name": "python3"
  },
  "language_info": {
   "codemirror_mode": {
    "name": "ipython",
    "version": 3
   },
   "file_extension": ".py",
   "mimetype": "text/x-python",
   "name": "python",
   "nbconvert_exporter": "python",
   "pygments_lexer": "ipython3",
   "version": "3.10.0"
  },
  "orig_nbformat": 4
 },
 "nbformat": 4,
 "nbformat_minor": 2
}
