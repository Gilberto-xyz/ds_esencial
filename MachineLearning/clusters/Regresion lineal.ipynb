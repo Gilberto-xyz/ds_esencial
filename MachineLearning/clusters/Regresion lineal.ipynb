{
 "cells": [
  {
   "cell_type": "code",
   "execution_count": 1,
   "metadata": {},
   "outputs": [],
   "source": [
    "import numpy as np\n",
    "import pandas as pd \n",
    "import matplotlib.pyplot as plt\n",
    "from sklearn import datasets, linear_model\n",
    "from sklearn.metrics import mean_squared_error, r2_score\n",
    "\n",
    "df = pd.read_csv('C:/Users/G/OneDrive/Documentos/dataset/base_datos_2008.csv')"
   ]
  },
  {
   "cell_type": "code",
   "execution_count": 2,
   "metadata": {},
   "outputs": [],
   "source": [
    "df = df.dropna(subset = ['ArrDelay'])\n",
    "df = df.sample(frac = 1).head(100000)\n",
    "Y = df[['ArrDelay']]\n",
    "X = df[['DepDelay']]"
   ]
  },
  {
   "cell_type": "code",
   "execution_count": 3,
   "metadata": {},
   "outputs": [
    {
     "name": "stdout",
     "output_type": "stream",
     "text": [
      "Coeficientes: [[1.01833919]]\n",
      "R cuadrado: 0.870088675998762\n"
     ]
    }
   ],
   "source": [
    "regr = linear_model.LinearRegression()\n",
    "regr.fit(X,Y)\n",
    "\n",
    "print(f'Coeficientes: {regr.coef_}')\n",
    "Y_pred = regr.predict(X)\n",
    "print(f'R cuadrado: {r2_score(Y,Y_pred)}')"
   ]
  },
  {
   "cell_type": "code",
   "execution_count": 5,
   "metadata": {},
   "outputs": [
    {
     "data": {
      "image/png": "[encoded data removed]",
      "text/plain": [
       "<Figure size 432x288 with 1 Axes>"
      ]
     },
     "metadata": {
      "needs_background": "light"
     },
     "output_type": "display_data"
    }
   ],
   "source": [
    "plt.scatter(X[1:10000], Y[1:10000], color = 'black')\n",
    "plt.plot(X[1:10000], Y_pred[1:10000], color = 'blue')\n",
    "\n",
    "plt.show()"
   ]
  },
  {
   "cell_type": "markdown",
   "metadata": {},
   "source": [
    "## Predecir valores de variables categoricas"
   ]
  },
  {
   "cell_type": "code",
   "execution_count": 7,
   "metadata": {},
   "outputs": [],
   "source": [
    "X = df[['AirTime', 'Distance', 'TaxiIn', 'TaxiOut']]\n",
    "\n",
    "df['Month'] = df['Month'].apply(str)\n",
    "df['DayofMonth'] = df['DayofMonth'].apply(str)\n",
    "df['DayOfWeek'] = df['DayOfWeek'].apply(str)\n",
    "\n",
    "dummies = pd.get_dummies(data = df[['Month', 'DayofMonth', 'DayOfWeek', 'Origin', 'Dest']])\n",
    "X = dummies.add(X, fill_value = 0)"
   ]
  },
  {
   "cell_type": "code",
   "execution_count": 8,
   "metadata": {},
   "outputs": [
    {
     "data": {
      "text/plain": [
       "Index(['AirTime', 'DayOfWeek_1', 'DayOfWeek_2', 'DayOfWeek_3', 'DayOfWeek_4',\n",
       "       'DayOfWeek_5', 'DayOfWeek_6', 'DayOfWeek_7', 'DayofMonth_1',\n",
       "       'DayofMonth_10',\n",
       "       ...\n",
       "       'Origin_VLD', 'Origin_VPS', 'Origin_WRG', 'Origin_WYS', 'Origin_XNA',\n",
       "       'Origin_YAK', 'Origin_YKM', 'Origin_YUM', 'TaxiIn', 'TaxiOut'],\n",
       "      dtype='object', length=651)"
      ]
     },
     "execution_count": 8,
     "metadata": {},
     "output_type": "execute_result"
    }
   ],
   "source": [
    "X.columns"
   ]
  },
  {
   "cell_type": "code",
   "execution_count": 9,
   "metadata": {},
   "outputs": [
    {
     "name": "stdout",
     "output_type": "stream",
     "text": [
      "R cuadrado: 0.1779395106924181\n"
     ]
    }
   ],
   "source": [
    "regr = linear_model.LinearRegression()\n",
    "regr.fit(X, Y)\n",
    "\n",
    "Y_pred = regr.predict(X)\n",
    "print(f'R cuadrado: {r2_score(Y, Y_pred)}')"
   ]
  },
  {
   "cell_type": "code",
   "execution_count": 10,
   "metadata": {},
   "outputs": [],
   "source": [
    "X = X.add(df[['DepDelay']],fill_value = 0)"
   ]
  },
  {
   "cell_type": "code",
   "execution_count": 11,
   "metadata": {},
   "outputs": [
    {
     "name": "stdout",
     "output_type": "stream",
     "text": [
      "R Cuadrado: 0.9716934524247198\n"
     ]
    }
   ],
   "source": [
    "regr = linear_model.LinearRegression()\n",
    "regr.fit(X, Y)\n",
    "\n",
    "Y_pred = regr.predict(X)\n",
    "print(f'R Cuadrado: {r2_score(Y, Y_pred)}')"
   ]
  }
 ],
 "metadata": {
  "interpreter": {
   "hash": "7c7891e7cf380ed489d75a267c4c9edc21b025f50aaae629f7ee24d6d95fc690"
  },
  "kernelspec": {
   "display_name": "Python 3.10.2 64-bit",
   "language": "python",
   "name": "python3"
  },
  "language_info": {
   "codemirror_mode": {
    "name": "ipython",
    "version": 3
   },
   "file_extension": ".py",
   "mimetype": "text/x-python",
   "name": "python",
   "nbconvert_exporter": "python",
   "pygments_lexer": "ipython3",
   "version": "3.10.2"
  },
  "orig_nbformat": 4
 },
 "nbformat": 4,
 "nbformat_minor": 2
}
