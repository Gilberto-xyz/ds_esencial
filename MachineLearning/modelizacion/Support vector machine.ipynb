{
 "cells": [
  {
   "cell_type": "code",
   "execution_count": 1,
   "metadata": {},
   "outputs": [],
   "source": [
    "import numpy as np \n",
    "import pandas as pd \n",
    "from sklearn.svm import SVC\n",
    "\n",
    "df = pd.read_csv('C:/Users/G/OneDrive/Documentos/dataset/base_datos_2008.csv')\n",
    "\n",
    "df = df.dropna(subset = ['ArrDelay'])\n",
    "df = df.sample(frac = 1)\n",
    "\n",
    "df = df.head(1000)\n",
    "df_test = df.tail(1000)"
   ]
  },
  {
   "cell_type": "code",
   "execution_count": 4,
   "metadata": {},
   "outputs": [],
   "source": [
    "X = df[['Distance', 'AirTime', 'DepTime','TaxiIn', 'TaxiOut', 'DepDelay']]\n",
    "X_test = df_test[['Distance', 'AirTime', 'DepTime', 'TaxiIn', 'TaxiOut', 'DepDelay']]\n",
    "\n",
    "Y =df['ArrDelay'] > 10\n",
    "Y_test = df_test['ArrDelay'] > 10\n",
    "\n",
    "clf = SVC(kernel = 'linear') # kernel = 'Linear'\n",
    "clf.fit(X,Y)\n",
    "\n",
    "Y_pred = clf.predict(X_test)\n",
    "# C / Kernel"
   ]
  },
  {
   "cell_type": "code",
   "execution_count": 5,
   "metadata": {},
   "outputs": [
    {
     "data": {
      "text/plain": [
       "0.935"
      ]
     },
     "execution_count": 5,
     "metadata": {},
     "output_type": "execute_result"
    }
   ],
   "source": [
    "np.mean(Y_pred == Y_test)"
   ]
  },
  {
   "cell_type": "code",
   "execution_count": 6,
   "metadata": {},
   "outputs": [],
   "source": [
    "# https://scikit-learn.org/stable/modules/svm.html\n",
    "\n",
    "# linear / poly / rbf / sigmoid -> asociados con parámetros \n",
    "\n",
    "# para kernels lineales -> LinearSVC()"
   ]
  }
 ],
 "metadata": {
  "interpreter": {
   "hash": "7c7891e7cf380ed489d75a267c4c9edc21b025f50aaae629f7ee24d6d95fc690"
  },
  "kernelspec": {
   "display_name": "Python 3.10.2 64-bit",
   "language": "python",
   "name": "python3"
  },
  "language_info": {
   "codemirror_mode": {
    "name": "ipython",
    "version": 3
   },
   "file_extension": ".py",
   "mimetype": "text/x-python",
   "name": "python",
   "nbconvert_exporter": "python",
   "pygments_lexer": "ipython3",
   "version": "3.10.2"
  },
  "orig_nbformat": 4
 },
 "nbformat": 4,
 "nbformat_minor": 2
}
