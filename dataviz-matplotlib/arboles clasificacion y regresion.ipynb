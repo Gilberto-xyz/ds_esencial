{
 "cells": [
  {
   "cell_type": "code",
   "execution_count": 1,
   "metadata": {},
   "outputs": [],
   "source": [
    "import numpy as np\n",
    "import pandas as pd\n",
    "\n",
    "from sklearn import tree\n",
    "from sklearn.metrics import r2_score\n",
    "\n",
    "df = pd.read_csv('C:/Users/G/OneDrive/Documentos/dataset/base_datos_2008.csv')\n",
    "\n",
    "df = df.dropna(subset = ['ArrDelay'])\n",
    "df = df.sample(frac = 1)\n",
    "\n",
    "dftest = df.tail(500000)\n",
    "df = df.head(500000)"
   ]
  },
  {
   "cell_type": "code",
   "execution_count": 2,
   "metadata": {},
   "outputs": [],
   "source": [
    "clf = tree.DecisionTreeClassifier()\n",
    "\n",
    "X = df[['Distance', 'AirTime', 'DepTime', 'TaxiIn', 'TaxiOut', 'DepDelay']]\n",
    "X_test = dftest[['Distance', 'AirTime', 'DepTime', 'TaxiIn', 'TaxiOut', 'DepDelay']]\n",
    "\n",
    "Y = df['ArrDelay'] > 10\n",
    "Y_test = dftest['ArrDelay'] > 10\n",
    "\n",
    "clf = clf.fit(X, Y)\n",
    "\n",
    "Y_pred = clf.predict(X)\n",
    "Y_pred_test = clf.predict(X_test)\n",
    "\n",
    "# Max_depth, min_samples_split / min_samples_leaf, max_features"
   ]
  },
  {
   "cell_type": "code",
   "execution_count": 3,
   "metadata": {},
   "outputs": [
    {
     "data": {
      "text/plain": [
       "0.999998"
      ]
     },
     "execution_count": 3,
     "metadata": {},
     "output_type": "execute_result"
    }
   ],
   "source": [
    "np.mean(Y == Y_pred)\n",
    "# El modelo sobreajusta todos los parametros"
   ]
  },
  {
   "cell_type": "code",
   "execution_count": 5,
   "metadata": {},
   "outputs": [
    {
     "data": {
      "text/plain": [
       "0.89424"
      ]
     },
     "execution_count": 5,
     "metadata": {},
     "output_type": "execute_result"
    }
   ],
   "source": [
    "np.mean(Y_test == Y_pred_test)"
   ]
  },
  {
   "cell_type": "code",
   "execution_count": 6,
   "metadata": {},
   "outputs": [
    {
     "name": "stdout",
     "output_type": "stream",
     "text": [
      "R cuadrado: 0.9999992939731148\n",
      "R cuadrado test: 0.8950458037958331\n"
     ]
    }
   ],
   "source": [
    "clf = tree.DecisionTreeRegressor()\n",
    "\n",
    "Y = df['ArrDelay']\n",
    "\n",
    "Y_test = dftest['ArrDelay']\n",
    "\n",
    "clf = clf.fit(X, Y)\n",
    "\n",
    "Y_pred = clf.predict(X)\n",
    "Y_pred_test = clf.predict(X_test)\n",
    "\n",
    "\n",
    "print(f'R cuadrado: {r2_score(Y, Y_pred)}')\n",
    "\n",
    "print(f'R cuadrado test: {r2_score(Y_test, Y_pred_test)}')"
   ]
  }
 ],
 "metadata": {
  "interpreter": {
   "hash": "7c7891e7cf380ed489d75a267c4c9edc21b025f50aaae629f7ee24d6d95fc690"
  },
  "kernelspec": {
   "display_name": "Python 3.10.2 64-bit",
   "language": "python",
   "name": "python3"
  },
  "language_info": {
   "codemirror_mode": {
    "name": "ipython",
    "version": 3
   },
   "file_extension": ".py",
   "mimetype": "text/x-python",
   "name": "python",
   "nbconvert_exporter": "python",
   "pygments_lexer": "ipython3",
   "version": "3.10.2"
  },
  "orig_nbformat": 4
 },
 "nbformat": 4,
 "nbformat_minor": 2
}
