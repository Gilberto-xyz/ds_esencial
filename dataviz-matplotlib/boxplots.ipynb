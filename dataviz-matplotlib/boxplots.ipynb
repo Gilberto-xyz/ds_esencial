{
 "cells": [
  {
   "cell_type": "markdown",
   "metadata": {},
   "source": [
    "# Hsitogramas y box plots en Matplotlib"
   ]
  }
 ],
 "metadata": {
  "language_info": {
   "name": "python"
  },
  "orig_nbformat": 4
 },
 "nbformat": 4,
 "nbformat_minor": 2
}
